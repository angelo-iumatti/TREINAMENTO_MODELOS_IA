{
 "cells": [
  {
   "cell_type": "markdown",
   "id": "07d5e1c3",
   "metadata": {},
   "source": [
    "# 🌼 Classificador de Espécies de Flores com o Dataset Iris\n",
    "\n",
    "Este notebook mostra passo a passo como construir um modelo de aprendizado supervisionado usando o dataset Iris, com foco em duas abordagens: Árvore de Decisão e K-Nearest Neighbors (KNN).\n",
    "\n",
    "📅 Projeto gerado em: 05/07/2025\n"
   ]
  },
  {
   "cell_type": "code",
   "execution_count": null,
   "id": "6d8e52ad",
   "metadata": {},
   "outputs": [],
   "source": [
    "import pandas as pd\n",
    "import numpy as np\n",
    "import matplotlib.pyplot as plt\n",
    "from sklearn.datasets import load_iris\n",
    "from sklearn.model_selection import train_test_split, cross_val_score\n",
    "from sklearn.tree import DecisionTreeClassifier\n",
    "from sklearn.neighbors import KNeighborsClassifier\n",
    "from sklearn.metrics import accuracy_score, confusion_matrix, ConfusionMatrixDisplay\n"
   ]
  },
  {
   "cell_type": "markdown",
   "id": "13fb3115",
   "metadata": {},
   "source": [
    "## 1. Carregamento e exploração dos dados"
   ]
  },
  {
   "cell_type": "code",
   "execution_count": null,
   "id": "f10f0ec2",
   "metadata": {},
   "outputs": [],
   "source": [
    "iris = load_iris()\n",
    "df = pd.DataFrame(data=iris.data, columns=iris.feature_names)\n",
    "df['target'] = iris.target\n",
    "df['species'] = pd.Categorical.from_codes(iris.target, iris.target_names)\n",
    "df.head()"
   ]
  },
  {
   "cell_type": "markdown",
   "id": "a020e397",
   "metadata": {},
   "source": [
    "## 2. Separação entre atributos (features) e rótulos (target)"
   ]
  },
  {
   "cell_type": "code",
   "execution_count": null,
   "id": "74d58298",
   "metadata": {},
   "outputs": [],
   "source": [
    "X = df[iris.feature_names]\n",
    "y = df['target']\n",
    "\n",
    "X_train, X_test, y_train, y_test = train_test_split(X, y, test_size=0.2, random_state=42)\n",
    "\n",
    "print(\"Tamanho treino:\", X_train.shape)\n",
    "print(\"Tamanho teste:\", X_test.shape)"
   ]
  },
  {
   "cell_type": "markdown",
   "id": "cd231fca",
   "metadata": {},
   "source": [
    "## 3. Treinamento de modelos de Machine Learning"
   ]
  },
  {
   "cell_type": "code",
   "execution_count": null,
   "id": "67398eed",
   "metadata": {},
   "outputs": [],
   "source": [
    "# Modelo 1: Árvore de Decisão\n",
    "dt_model = DecisionTreeClassifier(random_state=42)\n",
    "dt_model.fit(X_train, y_train)\n",
    "\n",
    "# Modelo 2: K-Nearest Neighbors\n",
    "knn_model = KNeighborsClassifier(n_neighbors=3)\n",
    "knn_model.fit(X_train, y_train)"
   ]
  },
  {
   "cell_type": "markdown",
   "id": "7950eca7",
   "metadata": {},
   "source": [
    "## 4. Avaliação dos modelos"
   ]
  },
  {
   "cell_type": "code",
   "execution_count": null,
   "id": "e277b49f",
   "metadata": {},
   "outputs": [],
   "source": [
    "# Previsões\n",
    "dt_preds = dt_model.predict(X_test)\n",
    "knn_preds = knn_model.predict(X_test)\n",
    "\n",
    "# Acurácias\n",
    "print(\"Acurácia - Árvore de Decisão:\", accuracy_score(y_test, dt_preds))\n",
    "print(\"Acurácia - KNN:\", accuracy_score(y_test, knn_preds))\n",
    "\n",
    "# Validação cruzada\n",
    "dt_cv = cross_val_score(dt_model, X, y, cv=5).mean()\n",
    "knn_cv = cross_val_score(knn_model, X, y, cv=5).mean()\n",
    "\n",
    "print(\"Validação cruzada - Árvore de Decisão:\", dt_cv)\n",
    "print(\"Validação cruzada - KNN:\", knn_cv)"
   ]
  },
  {
   "cell_type": "markdown",
   "id": "4b3192f5",
   "metadata": {},
   "source": [
    "## 5. Matriz de Confusão - KNN"
   ]
  },
  {
   "cell_type": "code",
   "execution_count": null,
   "id": "60b6c2ab",
   "metadata": {},
   "outputs": [],
   "source": [
    "cm = confusion_matrix(y_test, knn_preds)\n",
    "disp = ConfusionMatrixDisplay(confusion_matrix=cm, display_labels=iris.target_names)\n",
    "disp.plot()\n",
    "plt.title(\"Matriz de Confusão - KNN\")\n",
    "plt.show()"
   ]
  },
  {
   "cell_type": "markdown",
   "id": "1245cdd8",
   "metadata": {},
   "source": [
    "## 6. Testando com nova amostra"
   ]
  },
  {
   "cell_type": "code",
   "execution_count": null,
   "id": "ac7ca908",
   "metadata": {},
   "outputs": [],
   "source": [
    "# [comprimento_sépala, largura_sépala, comprimento_pétala, largura_pétala]\n",
    "nova_flor = np.array([[5.1, 3.5, 1.4, 0.2]])\n",
    "print(\"Previsão - Árvore de Decisão:\", iris.target_names[dt_model.predict(nova_flor)[0]])\n",
    "print(\"Previsão - KNN:\", iris.target_names[knn_model.predict(nova_flor)[0]])"
   ]
  },
  {
   "cell_type": "markdown",
   "id": "a1470a91",
   "metadata": {},
   "source": [
    "## 7. Reflexão\n",
    "\n",
    "Este exercício mostrou como usar aprendizado supervisionado para classificação com dados reais. Os dois modelos utilizados demonstraram excelente desempenho, com acurácias acima de 95%.\n",
    "\n",
    "Esse tipo de técnica é amplamente usada em sistemas modernos de IA, como:\n",
    "- Reconhecimento de imagem\n",
    "- Diagnóstico médico automatizado\n",
    "- Assistentes virtuais\n",
    "- Filtros de spam\n",
    "\n",
    "Você pode treinar esse classificador com outros dados e adaptar para novos domínios facilmente.\n"
   ]
  }
 ],
 "metadata": {
  "language_info": {
   "name": "python"
  }
 },
 "nbformat": 4,
 "nbformat_minor": 5
}
